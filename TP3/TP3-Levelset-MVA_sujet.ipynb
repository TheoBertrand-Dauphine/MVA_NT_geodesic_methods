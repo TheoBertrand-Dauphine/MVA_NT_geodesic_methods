{
 "cells": [
  {
   "cell_type": "markdown",
   "metadata": {},
   "source": [
    "# TP 3 - Active Contours using Level Sets\n",
    "\n",
    "*Important:* Please read the [installation page](http://gpeyre.github.io/numerical-tours/installation_python/) for details about how to install the toolboxes.\n",
    "$\\newcommand{\\dotp}[2]{\\langle #1, #2 \\rangle}$\n",
    "$\\newcommand{\\enscond}[2]{\\lbrace #1, #2 \\rbrace}$\n",
    "$\\newcommand{\\pd}[2]{ \\frac{ \\partial #1}{\\partial #2} }$\n",
    "$\\newcommand{\\umin}[1]{\\underset{#1}{\\min}\\;}$\n",
    "$\\newcommand{\\umax}[1]{\\underset{#1}{\\max}\\;}$\n",
    "$\\newcommand{\\umin}[1]{\\underset{#1}{\\min}\\;}$\n",
    "$\\newcommand{\\uargmin}[1]{\\underset{#1}{argmin}\\;}$\n",
    "$\\newcommand{\\norm}[1]{\\|#1\\|}$\n",
    "$\\newcommand{\\abs}[1]{\\left|#1\\right|}$\n",
    "$\\newcommand{\\choice}[1]{ \\left\\{  \\begin{array}{l} #1 \\end{array} \\right. }$\n",
    "$\\newcommand{\\pa}[1]{\\left(#1\\right)}$\n",
    "$\\newcommand{\\diag}[1]{{diag}\\left( #1 \\right)}$\n",
    "$\\newcommand{\\qandq}{\\quad\\text{and}\\quad}$\n",
    "$\\newcommand{\\qwhereq}{\\quad\\text{where}\\quad}$\n",
    "$\\newcommand{\\qifq}{ \\quad \\text{if} \\quad }$\n",
    "$\\newcommand{\\qarrq}{ \\quad \\Longrightarrow \\quad }$\n",
    "$\\newcommand{\\ZZ}{\\mathbb{Z}}$\n",
    "$\\newcommand{\\CC}{\\mathbb{C}}$\n",
    "$\\newcommand{\\RR}{\\mathbb{R}}$\n",
    "$\\newcommand{\\EE}{\\mathbb{E}}$\n",
    "$\\newcommand{\\Zz}{\\mathcal{Z}}$\n",
    "$\\newcommand{\\Ww}{\\mathcal{W}}$\n",
    "$\\newcommand{\\Vv}{\\mathcal{V}}$\n",
    "$\\newcommand{\\Nn}{\\mathcal{N}}$\n",
    "$\\newcommand{\\NN}{\\mathcal{N}}$\n",
    "$\\newcommand{\\Hh}{\\mathcal{H}}$\n",
    "$\\newcommand{\\Bb}{\\mathcal{B}}$\n",
    "$\\newcommand{\\Ee}{\\mathcal{E}}$\n",
    "$\\newcommand{\\Cc}{\\mathcal{C}}$\n",
    "$\\newcommand{\\Gg}{\\mathcal{G}}$\n",
    "$\\newcommand{\\Ss}{\\mathcal{S}}$\n",
    "$\\newcommand{\\Pp}{\\mathcal{P}}$\n",
    "$\\newcommand{\\Ff}{\\mathcal{F}}$\n",
    "$\\newcommand{\\Xx}{\\mathcal{X}}$\n",
    "$\\newcommand{\\Mm}{\\mathcal{M}}$\n",
    "$\\newcommand{\\Ii}{\\mathcal{I}}$\n",
    "$\\newcommand{\\Dd}{\\mathcal{D}}$\n",
    "$\\newcommand{\\Ll}{\\mathcal{L}}$\n",
    "$\\newcommand{\\Tt}{\\mathcal{T}}$\n",
    "$\\newcommand{\\si}{\\sigma}$\n",
    "$\\newcommand{\\al}{\\alpha}$\n",
    "$\\newcommand{\\la}{\\lambda}$\n",
    "$\\newcommand{\\ga}{\\gamma}$\n",
    "$\\newcommand{\\Ga}{\\Gamma}$\n",
    "$\\newcommand{\\La}{\\Lambda}$\n",
    "$\\newcommand{\\si}{\\sigma}$\n",
    "$\\newcommand{\\Si}{\\Sigma}$\n",
    "$\\newcommand{\\be}{\\beta}$\n",
    "$\\newcommand{\\de}{\\delta}$\n",
    "$\\newcommand{\\De}{\\Delta}$\n",
    "$\\newcommand{\\phi}{\\varphi}$\n",
    "$\\newcommand{\\th}{\\theta}$\n",
    "$\\newcommand{\\om}{\\omega}$\n",
    "$\\newcommand{\\Om}{\\Omega}$"
   ]
  },
  {
   "cell_type": "markdown",
   "metadata": {},
   "source": [
    "This lab explores image segmentation using level set methods. Here is the outline of the lab, the links will help you navigate the notebook\n",
    "\n",
    "1. [Managing level set functions](#1.-Managing-level-set-functions): this part will help you manage level sets in a proper way\n",
    "2. [Mean Curvature Motion](#2.-Mean-Curvature-Motion): you will implement the Mean Curvature Motion for an active contour\n",
    "3. [Edge-based Segmentation with Geodesic Active Contour](#3.-Edge-based-Segmentation-with-Geodesic-Active-Contour): using the previous algorithm to segment images, minimizing an energy defined by the edges\n",
    "4. [Region-based Segmentation with Chan-Vese](#4.-Region-based-Segmentation-with-Chan-Vese): replacing the previous energy by one defined by the whole segmented region"
   ]
  },
  {
   "cell_type": "code",
   "execution_count": null,
   "metadata": {},
   "outputs": [],
   "source": [
    "from __future__ import division\n",
    "\n",
    "import numpy as np\n",
    "import scipy as scp\n",
    "import pylab as pyl\n",
    "import matplotlib.pyplot as plt\n",
    "import sys\n",
    "\n",
    "from nt_toolbox.general import *\n",
    "from nt_toolbox.signal import *\n",
    "\n",
    "import warnings\n",
    "warnings.filterwarnings('ignore')\n",
    "\n",
    "%matplotlib inline\n",
    "%load_ext autoreload\n",
    "%autoreload 2"
   ]
  },
  {
   "cell_type": "markdown",
   "metadata": {},
   "source": [
    "## 1. Managing level set functions\n",
    "\n",
    "In the level set formalism, the evolution of some curve $ (\\ga(t))_{t=0}^1 $\n",
    "is computed by evolving the\n",
    "zero level of a function $\\phi : \\RR^2 \\rightarrow \\RR $\n",
    "$$ \\enscond{\\ga(s)}{ s \\in [0,1] } = \\enscond{x \\in \\RR^2}{\\phi(x)=0}. $$\n",
    "This corresponds to replacing the parameteric representation $\\ga$ of\n",
    "the curve by an implicit representation. This requires an additional\n",
    "dimension (and hence more storage) but ease the handling of topological\n",
    "change of the curve during the evolution.\n",
    "\n",
    "To represent such functions $\\phi$, we will discretize the domain $[0,1]^2$ into $n \\times n$ pixels: $\\phi$ is now simply an image"
   ]
  },
  {
   "cell_type": "code",
   "execution_count": null,
   "metadata": {},
   "outputs": [],
   "source": [
    "n = 200\n",
    "Y,X = np.meshgrid(np.arange(1,n+1), np.arange(1,n+1))"
   ]
  },
  {
   "cell_type": "markdown",
   "metadata": {},
   "source": [
    "One can create a circular shape by using the signed distance function to\n",
    "a circle\n",
    "$$ \\phi_1(x) = \\sqrt{ (x_1-c_1)^2 + (x_2-c_2)^2 } - r $$\n",
    "where $r>0$ is the radius and $c \\in \\RR^2$ the center."
   ]
  },
  {
   "cell_type": "markdown",
   "metadata": {},
   "source": [
    "__Exercise 1__\n",
    "\n",
    "- Create a circle shape $\\phi_1$ using $(r,c)$ values provided below. Name the variable `phi1`\n",
    "- Load a square shape $\\phi_2$ at a different position for the center. Name it `phi2`"
   ]
  },
  {
   "cell_type": "code",
   "execution_count": null,
   "metadata": {},
   "outputs": [],
   "source": [
    "r = n/3.\n",
    "c = np.array([r,r]) + 10"
   ]
  },
  {
   "cell_type": "code",
   "execution_count": null,
   "metadata": {},
   "outputs": [],
   "source": [
    "## Insert your code here.\n",
    "# phi1 = ...\n",
    "# phi2 = ..."
   ]
  },
  {
   "cell_type": "markdown",
   "metadata": {},
   "source": [
    "Display the curves associated to $\\phi_1$ and $\\phi_2$, using a util function from the toolboxes"
   ]
  },
  {
   "cell_type": "code",
   "execution_count": null,
   "metadata": {
    "scrolled": true
   },
   "outputs": [],
   "source": [
    "from nt_toolbox.plot_levelset import *\n",
    "plt.figure(figsize = (10,5)) # the argument figsize is in centimeters\n",
    "\n",
    "plt.subplot(1,2,1)\n",
    "plot_levelset(phi1)\n",
    "plt.title(\"$\\phi_1$\")\n",
    "\n",
    "plt.subplot(1,2,2)\n",
    "plot_levelset(phi2)\n",
    "plt.title(\"$\\phi_2$\")\n",
    "\n",
    "plt.show()"
   ]
  },
  {
   "cell_type": "markdown",
   "metadata": {},
   "source": [
    "__Exercise 2__\n",
    "\n",
    "Compute the intersection and the union of the two shapes. Store the union in $\\phi_0$ (`phi0`) that we will use in the remaining part of the tour. Don't forget to plot the result"
   ]
  },
  {
   "cell_type": "code",
   "execution_count": null,
   "metadata": {},
   "outputs": [],
   "source": [
    "## Insert your code here."
   ]
  },
  {
   "cell_type": "markdown",
   "metadata": {},
   "source": [
    "## 2. Mean Curvature Motion\n",
    "\n",
    "The mean curvature motion corresponds to the minimizing flow of the\n",
    "length of the curve\n",
    "$$ \\int_0^1 \\norm{\\ga'(s)} d s. $$\n",
    "\n",
    "\n",
    "\n",
    "It is implemeted in a level set formalism by a familly $\\phi_t$ of\n",
    "level set function parameterized by an artificial time $t \\geq 0$, that\n",
    "satisfies the following PDE\n",
    "$$ \\pd{\\phi_t}{t} = -G(\\phi_t)\n",
    "  \\qwhereq G(\\phi) = -\\norm{\\nabla \\phi} \\text{div}\n",
    "      \\pa{  \\frac{\\nabla \\phi}{\\norm{\\nabla \\phi}} }  $$\n",
    "and where $\\nabla \\phi_t(x) \\in \\RR^2$ is the spacial gradient.\n",
    "\n",
    "\n",
    "This flow is computed using a gradient descent\n",
    "$\\phi^{(0)} = \\phi_0$ and\n",
    "$$ \\phi^{(\\ell+1)} = \\phi^{(\\ell)} - \\tau G(\\phi^{(\\ell)}), $$\n",
    "where $\\tau>0$ is small enough time step."
   ]
  },
  {
   "cell_type": "markdown",
   "metadata": {},
   "source": [
    "We need to define parameters for the algorithm:\n",
    "\n",
    "- Maximum time of the evolution $0 \\leq t \\leq t_{\\max}$\n",
    "- Time step $\\tau>0$ (should be small)\n",
    "- Number of iterations\n",
    "\n",
    "We also import util functions from the toolbox"
   ]
  },
  {
   "cell_type": "code",
   "execution_count": null,
   "metadata": {},
   "outputs": [],
   "source": [
    "from nt_toolbox.grad import *\n",
    "from nt_toolbox.div import *\n",
    "\n",
    "Tmax = 200\n",
    "tau = .5\n",
    "niter = int(Tmax/tau)"
   ]
  },
  {
   "cell_type": "markdown",
   "metadata": {},
   "source": [
    "For the initial shape $\\phi^{(0)}$ at $t=0$, we copy `phi0` (since numpy holds data pointers)"
   ]
  },
  {
   "cell_type": "code",
   "execution_count": null,
   "metadata": {},
   "outputs": [],
   "source": [
    "phi = np.copy(phi0)"
   ]
  },
  {
   "cell_type": "markdown",
   "metadata": {},
   "source": [
    "__\\*\\*\\* Exercise 3 \\*\\*\\* (a.k.a. the most important one in this lab)__\n",
    "\n",
    "Implement the mean curvature motion for $\\phi_0$. Some tips :\n",
    "\n",
    "- The toolbox will help you compute the gradient: `grad(f, order=2)`\n",
    "- To normalize the gradient, you might need the following functions: `np.repeat()` and `np.sqrt(np.sum(g**2, 2))`\n",
    "- Don't forget to cap $\\norm{\\nabla \\phi}$ above $\\epsilon$ in order to prevent division by 0. You can use `eps = np.finfo(float).eps` to get a value for $\\epsilon$\n",
    "- For divergence of `g`: `div(g[:,:,0], g[:,:,1], order=2)`\n",
    "- It is an iterative algorithm, first implement one step and check it\n",
    "- Then loop it up\n",
    "- Display the result over time. You can for instance display 4 steps in total, using the `plt.subplot()` method seen above"
   ]
  },
  {
   "cell_type": "code",
   "execution_count": null,
   "metadata": {},
   "outputs": [],
   "source": [
    "## Insert your code here."
   ]
  },
  {
   "cell_type": "markdown",
   "metadata": {},
   "source": [
    "Levelset Re-distancing\n",
    "----------------------\n",
    "During PDE resolution, a level set function $\\phi$ might become\n",
    "ill-conditionned, so that the zero crossing is not sharp enough.\n",
    "The quality of the level set function is restored by computing the\n",
    "signed distance function to the zero level set.\n",
    "\n",
    "\n",
    "This corresponds to first extracting the zero level set\n",
    "$$ \\Cc = \\enscond{x \\in \\RR^2 }{\\phi(x)=0},  $$\n",
    "and then computing $\\tilde \\phi(x)$, the signed distance function to $\\Cc$, using Fast Marching. Then one can replace $\\phi$ by $\\text{sign}(\\phi(x))\\tilde \\phi(x)$\n",
    "\n",
    "To illustrate re-distancing, we set $\\phi=\\phi_0^3$ so that they are both valid level set function\n",
    "of the same curve, but $\\phi$ is not the signed distance function."
   ]
  },
  {
   "cell_type": "code",
   "execution_count": null,
   "metadata": {},
   "outputs": [],
   "source": [
    "phi = phi0**3"
   ]
  },
  {
   "cell_type": "markdown",
   "metadata": {},
   "source": [
    "You have two ways of running Fast Marching:\n",
    "\n",
    "1. Use your implementation from previous lab\n",
    "2. Use a util function from the toolbox. You need the python package scikit-fmm to run this function (`pip install scikit-fmm` in the console). Note that you might also need a C++ compiler (for Windows: https://wiki.python.org/moin/WindowsCompilers#Microsoft_Visual_C.2B-.2B-_14.0_standalone:_Visual_C.2B-.2B-_Build_Tools_2015_.28x86.2C_x64.2C_ARM.29)."
   ]
  },
  {
   "cell_type": "code",
   "execution_count": null,
   "metadata": {
    "scrolled": true
   },
   "outputs": [],
   "source": [
    "from nt_toolbox.perform_redistancing import *\n",
    "phi1 = perform_redistancing(phi0)"
   ]
  },
  {
   "cell_type": "markdown",
   "metadata": {},
   "source": [
    "Display the level sets."
   ]
  },
  {
   "cell_type": "code",
   "execution_count": null,
   "metadata": {},
   "outputs": [],
   "source": [
    "plt.figure(figsize=(10,5))\n",
    "\n",
    "plt.subplot(1,2,1)\n",
    "plot_levelset(phi)\n",
    "plt.title(\"Before redistancing\")\n",
    "\n",
    "plt.subplot(1,2,2)\n",
    "plot_levelset(phi1)\n",
    "plt.title(\"After redistancing\")\n",
    "\n",
    "plt.show()"
   ]
  },
  {
   "cell_type": "markdown",
   "metadata": {},
   "source": [
    "## 3. Edge-based Segmentation with Geodesic Active Contour\n",
    "\n",
    "Geodesic active contours compute local minimum of a weighted geodesic\n",
    "distance that attracts the curve toward the features of the background\n",
    "image.\n",
    "\n",
    "\n",
    "_Note:_ these active contours should not be confounded with the geodesic shortest paths,\n",
    "that are globally minimizing geodesics between two points.\n",
    "Here the active contour is a closed curve progressively decreasing a\n",
    "weighted geodesic length that is only a local minimum\n",
    "(the global minimum would be a single point).\n",
    "\n",
    "\n",
    "Size of the image."
   ]
  },
  {
   "cell_type": "code",
   "execution_count": null,
   "metadata": {},
   "outputs": [],
   "source": [
    "n = 200"
   ]
  },
  {
   "cell_type": "markdown",
   "metadata": {},
   "source": [
    "First we load an image $f_0 \\in \\RR^{n \\times n}$ to segment."
   ]
  },
  {
   "cell_type": "code",
   "execution_count": null,
   "metadata": {},
   "outputs": [],
   "source": [
    "f0 = rescale(load_image(\"nt_toolbox/data/cortex.bmp\", n))\n",
    "imageplot(f0)"
   ]
  },
  {
   "cell_type": "markdown",
   "metadata": {},
   "source": [
    "> __Warning__\n",
    ">\n",
    "> If the previous cell imports the image in black and white only (because of integer rounding), execute the following block instead"
   ]
  },
  {
   "cell_type": "code",
   "execution_count": null,
   "metadata": {},
   "outputs": [],
   "source": [
    "from skimage import transform\n",
    "f0 = load_image(\"nt_toolbox/data/cortex.bmp\", resc=0)\n",
    "f0 = transform.resize(f0/765, [n, n], 1)\n",
    "imageplot(f0)"
   ]
  },
  {
   "cell_type": "markdown",
   "metadata": {},
   "source": [
    "Given a background image $f_0$ to segment, one needs to compute\n",
    "an edge-stopping function $W$.\n",
    "It should be small in area of high gradient, and high in area of large gradient.\n",
    "\n",
    "\n",
    "We use here\n",
    "$$ W(x) = \\al + \\frac{\\be}{\\epsilon + d(x) }\n",
    "      \\qwhereq d = \\norm{\\nabla f_0} \\star h_a, $$\n",
    "and where $h_a$ is a blurring kernel of size $a>0$.\n",
    "\n",
    "\n",
    "Compute the magnitude of the gradient $d_0(x) = \\norm{\\nabla f_0(x)}$."
   ]
  },
  {
   "cell_type": "code",
   "execution_count": null,
   "metadata": {},
   "outputs": [],
   "source": [
    "g = grad(f0, order=2)\n",
    "d0 = np.sqrt(np.sum(g**2, 2))"
   ]
  },
  {
   "cell_type": "markdown",
   "metadata": {},
   "source": [
    "Blur size $a$."
   ]
  },
  {
   "cell_type": "code",
   "execution_count": null,
   "metadata": {},
   "outputs": [],
   "source": [
    "a = 5"
   ]
  },
  {
   "cell_type": "markdown",
   "metadata": {},
   "source": [
    "Compute the blurring $d = d_0 \\star h_a$."
   ]
  },
  {
   "cell_type": "code",
   "execution_count": null,
   "metadata": {
    "scrolled": false
   },
   "outputs": [],
   "source": [
    "from nt_toolbox.perform_blurring import *\n",
    "d = perform_blurring(d0,np.asarray([a]),bound=\"per\")"
   ]
  },
  {
   "cell_type": "markdown",
   "metadata": {},
   "source": [
    "Parameter $\\epsilon>0$."
   ]
  },
  {
   "cell_type": "code",
   "execution_count": null,
   "metadata": {},
   "outputs": [],
   "source": [
    "epsilon = 1e-1"
   ]
  },
  {
   "cell_type": "markdown",
   "metadata": {},
   "source": [
    "We set the $\\al$ and $\\be$ parameters to adjust the overall values of $W$\n",
    "(equivalently we use the function rescale)."
   ]
  },
  {
   "cell_type": "code",
   "execution_count": null,
   "metadata": {},
   "outputs": [],
   "source": [
    "W = 1./(epsilon + d)\n",
    "W = rescale(-d, 0.1, 1)"
   ]
  },
  {
   "cell_type": "markdown",
   "metadata": {},
   "source": [
    "Display it."
   ]
  },
  {
   "cell_type": "code",
   "execution_count": null,
   "metadata": {},
   "outputs": [],
   "source": [
    "plt.figure(figsize=(10,5))\n",
    "imageplot(f0, \"Image to segment\", [1,2,1])\n",
    "imageplot(W, \"Weight\", [1,2,2])"
   ]
  },
  {
   "cell_type": "markdown",
   "metadata": {},
   "source": [
    "__Exercise 4__\n",
    "\n",
    "Compute an initial shape $\\phi_0$ at time $t=0$,\n",
    "for instance a centered square."
   ]
  },
  {
   "cell_type": "code",
   "execution_count": null,
   "metadata": {},
   "outputs": [],
   "source": [
    "## Insert your code here."
   ]
  },
  {
   "cell_type": "markdown",
   "metadata": {},
   "source": [
    "Display it."
   ]
  },
  {
   "cell_type": "code",
   "execution_count": null,
   "metadata": {},
   "outputs": [],
   "source": [
    "plt.figure(figsize=(5,5))\n",
    "plot_levelset(phi0, 0, f0)"
   ]
  },
  {
   "cell_type": "markdown",
   "metadata": {},
   "source": [
    "The geodesic active contour minimizes a weighted length of curve\n",
    "$$ \\umin{\\ga} \\int_0^1 \\norm{\\ga'(s)} W(\\ga(s)) d s $$\n",
    "\n",
    "\n",
    "The level set implementation of the gradient descent of this energy reads\n",
    "$$ \\pd{\\phi_t}{t} = G(\\phi_t)\n",
    "  \\qwhereq G(\\phi) = -\\norm{\\nabla \\phi} \\text{div}\\pa{\n",
    "          W \\frac{\\nabla \\phi}{\\norm{\\nabla \\phi}}\n",
    "  } $$\n",
    "\n",
    "\n",
    "This is implemented using a gradient descent scheme.\n",
    "$$ \\phi^{(\\ell+1)} = \\phi^{(\\ell)} + \\tau G(\\phi^{(\\ell)}), $$\n",
    "where $\\tau>0$ is small enough."
   ]
  },
  {
   "cell_type": "markdown",
   "metadata": {},
   "source": [
    "Parameters:"
   ]
  },
  {
   "cell_type": "code",
   "execution_count": null,
   "metadata": {},
   "outputs": [],
   "source": [
    "tau = .4\n",
    "Tmax = 1500\n",
    "niter = int(Tmax/tau)"
   ]
  },
  {
   "cell_type": "markdown",
   "metadata": {},
   "source": [
    "Note that we can re-write the gradient of the energy as\n",
    "$$ G(\\phi) = -W \\norm{\\nabla \\phi} \\text{div} \\pa{ \\frac{\\nabla \\phi}{\\norm{\\nabla \\phi}}  } - \\dotp{\\nabla W}{\\nabla \\phi} $$\n",
    "\n",
    "\n",
    "Also note that $\\nabla W$ is contant over time and can be computed once and for all."
   ]
  },
  {
   "cell_type": "markdown",
   "metadata": {},
   "source": [
    "__Exercise 5__\n",
    "\n",
    "Implement the geodesic active contours gradient descent.\n",
    "Do not forget to do the re-distancing once in a while (e.g. every 30 iterations)"
   ]
  },
  {
   "cell_type": "code",
   "execution_count": null,
   "metadata": {},
   "outputs": [],
   "source": [
    "## Insert your code here."
   ]
  },
  {
   "cell_type": "markdown",
   "metadata": {},
   "source": [
    "## 4. Region-based Segmentation with Chan-Vese \n",
    "\n",
    "Chan-Vese active contours corresponds to a region-based energy\n",
    "that looks for a piecewise constant approximation of the image.\n",
    "\n",
    "\n",
    "The energy to be minimized is\n",
    "$$ \\umin{\\phi}\n",
    "      L(\\phi) +\n",
    "      \\la \\int_{\\phi(x)>0} \\abs{f_0(x)-c_1}^2 d x   +\n",
    "      \\la \\int_{\\phi(x)<0} \\abs{f_0(x)-c_2}^2 d x\n",
    "$$\n",
    "where $L$ is the length of the zero level set of $\\phi$.\n",
    "Note that here $(c_1,c_2) \\in \\RR^2$ are assumed to be known."
   ]
  },
  {
   "cell_type": "markdown",
   "metadata": {},
   "source": [
    "__Exercise 6__\n",
    "\n",
    "Compute an initial level set function $\\phi_0$, stored in `phi0`, for instance a grid of 4 by 4 small circles covering the image"
   ]
  },
  {
   "cell_type": "code",
   "execution_count": null,
   "metadata": {},
   "outputs": [],
   "source": [
    "## Insert your code here."
   ]
  },
  {
   "cell_type": "markdown",
   "metadata": {},
   "source": [
    "The minimizing flow for the CV energy reads\n",
    "$$ \\pd{\\phi_t}{t} = - G(\\phi_t) $$\n",
    "where\n",
    "$$ G(\\phi) =\n",
    "- W \\norm{\\nabla \\phi} \\text{div}\\pa{\n",
    "\t\\frac{\\nabla \\phi}{\\norm{\\nabla \\phi}}\n",
    "} + \\la (f_0-c_1)^2 - \\la (f_0-c_2)^2. $$"
   ]
  },
  {
   "cell_type": "markdown",
   "metadata": {},
   "source": [
    "Parameters"
   ]
  },
  {
   "cell_type": "code",
   "execution_count": null,
   "metadata": {},
   "outputs": [],
   "source": [
    "lambd = 2\n",
    "c1 = .7\n",
    "c2 = 0\n",
    "tau = .5\n",
    "Tmax = 100\n",
    "niter = int(Tmax/ tau)"
   ]
  },
  {
   "cell_type": "markdown",
   "metadata": {},
   "source": [
    "__Exercise 7__\n",
    "\n",
    "Implement the full gradient descent that minimizes the Chan-Vese energy"
   ]
  },
  {
   "cell_type": "code",
   "execution_count": null,
   "metadata": {},
   "outputs": [],
   "source": [
    "## Insert your code here."
   ]
  },
  {
   "cell_type": "markdown",
   "metadata": {},
   "source": [
    "## Want to go further?\n",
    "\n",
    "Here is a list of what you can try:\n",
    "\n",
    "1. Try to segment other images\n",
    "2. Change the parameters values and observe the results\n",
    "3. For Chan-Vese, we shouldn't assume $(c1, c2)$ are known. We want to optimize over $(\\gamma, c1, c2)$. In order to do so, implement an iterative scheme similiar to K-means:\n",
    "    1. $(c1, c2)$ are fixed, one step of $\\gamma$ update\n",
    "    2. $\\gamma$ is fixed, update $(c1, c2)$ by computing the average color in the regions"
   ]
  },
  {
   "cell_type": "markdown",
   "metadata": {},
   "source": [
    "## You're finished!\n",
    "\n",
    "Once you've finished the lab, export it into a fixed HTML file and email it to me. You can follow these steps:\n",
    "\n",
    "1. Export to HTML using the menu `File` > `Download as` > `HTML (.html)`\n",
    "2. Rename the file using the following scheme: `TP3_nom_prenom.html`, for instance `TP3_dupont_jean.html`\n",
    "3. Send it to the following address: groscot@ceremade.dauphine.fr\n",
    "\n",
    "###### .THE END."
   ]
  },
  {
   "cell_type": "code",
   "execution_count": null,
   "metadata": {},
   "outputs": [],
   "source": []
  }
 ],
 "metadata": {
  "anaconda-cloud": {},
  "kernelspec": {
   "display_name": "Python 2",
   "language": "python",
   "name": "python2"
  },
  "language_info": {
   "codemirror_mode": {
    "name": "ipython",
    "version": 2
   },
   "file_extension": ".py",
   "mimetype": "text/x-python",
   "name": "python",
   "nbconvert_exporter": "python",
   "pygments_lexer": "ipython2",
   "version": "2.7.15"
  }
 },
 "nbformat": 4,
 "nbformat_minor": 1
}
