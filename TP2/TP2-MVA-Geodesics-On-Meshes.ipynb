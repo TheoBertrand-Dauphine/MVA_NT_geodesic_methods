{
 "cells": [
  {
   "cell_type": "markdown",
   "metadata": {},
   "source": [
    "TP 2 - Geodesics on meshes\n",
    "=======================\n",
    "\n",
    "This notebook doesn't require any toolkit, but the **scipy** Python module.\n",
    "\n",
    "![](http://www.ceremade.dauphine.fr/~groscot/tp3-heat.png)\n",
    "\n",
    "This lab focuses on 3D surfaces. Here is a list of what we'll explore:\n",
    "\n",
    "1. Handling and displaying meshes\n",
    "2. Computing differential operators\n",
    "3. Finding geodesic distance by solving a Poisson equation\n",
    "$\\newcommand{\\phi}{\\varphi}$\n",
    "$\\newcommand{\\RR}{\\mathbb{R}}$\n",
    "$\\newcommand{\\Vv}{\\mathcal{V}}$\n",
    "$\\newcommand{\\Ff}{\\mathcal{F}}$\n",
    "$\\newcommand{\\Ee}{\\mathcal{E}}$\n",
    "$\\newcommand{\\norm}[1]{\\|#1\\|}$"
   ]
  },
  {
   "cell_type": "markdown",
   "metadata": {},
   "source": [
    "Make sure these imports succeed before going any further"
   ]
  },
  {
   "cell_type": "code",
   "execution_count": null,
   "metadata": {},
   "outputs": [],
   "source": [
    "import numpy as np\n",
    "import matplotlib.pyplot as plt\n",
    "from mpl_toolkits.mplot3d import Axes3D\n",
    "from scipy import sparse"
   ]
  },
  {
   "cell_type": "markdown",
   "metadata": {},
   "source": [
    "# Dealing with meshes"
   ]
  },
  {
   "cell_type": "markdown",
   "metadata": {},
   "source": [
    "The topology of a triangulation is defined via a set of indices $\\Vv = \\{1,\\ldots,n\\}$ that indexes the $n$ vertices, a set of edges $\\Ee \\subset \\Vv \\times \\Vv$ and a set of $m$ faces $\\Ff \\subset \\Vv  \\times \\Vv \\times \\Vv$.\n",
    "\n",
    "We load a mesh:\n",
    "\n",
    "1. The positions $x_i \\in \\RR^3$, for $i \\in V$, of the $n$ vertices are stored in a matrix $X_0 = (x_{0,i})_{i=1}^n \\in \\RR^{3 \\times n}$.\n",
    "2. The set of faces $\\Ff$ is stored in a matrix $F \\in \\{1,\\ldots,n\\}^{3 \\times m}$."
   ]
  },
  {
   "cell_type": "code",
   "execution_count": null,
   "metadata": {},
   "outputs": [],
   "source": [
    "def read_mesh(name):\n",
    "    with open(name, mode=\"r\") as file:\n",
    "        \n",
    "        #check type of file\n",
    "        file_type = file.readline().strip()\n",
    "        if file_type != \"OFF\":\n",
    "            raise Exception(\"Wrong type of file, only reads OFF files\")\n",
    "        #number of vertices/faces/edges:\n",
    "        n_verts, n_faces, n_edges = tuple([int(s) for s in file.readline().strip().split(' ')])\n",
    "        #vertices\n",
    "        X0 = []\n",
    "        for _ in range(n_verts):\n",
    "            X0.append(file.readline().strip().split(' '))\n",
    "        #faces\n",
    "        F = []\n",
    "        for i in range(n_faces):\n",
    "            F.append(file.readline().strip().split(' ')[1:])\n",
    "    return np.asarray(X0).astype(float), np.asarray(F).astype(int)"
   ]
  },
  {
   "cell_type": "markdown",
   "metadata": {},
   "source": [
    "Displaying a mesh in Python is pretty slow. Below is the function you'll be using thoughout the lab, which allows to change the color of the patches to represent a **scalar-valued function** on the mesh, by defining a function on the vertices. For exhaustivity purposes, it also allows to define a function on the triangles, but from now on all references to a function on the surface will mean that it's defined on the vertices.\n",
    "\n",
    "> **Note**: vector-valued functions are not implemented. You shouldn't need them for the lab."
   ]
  },
  {
   "cell_type": "code",
   "execution_count": null,
   "metadata": {},
   "outputs": [],
   "source": [
    "def plot_mesh(X, F, subplot = [1,1,1], title=\"\", el=0, az=0, lwdt=.1, dist=6, c=\"grey\",\n",
    "              face_func=None, vertex_func=None):\n",
    "    X = X.T\n",
    "    ax = plt.subplot(subplot[0],subplot[1],subplot[2], projection='3d')\n",
    "    collec = ax.plot_trisurf(X[0,:], X[1,:], X[2,:], triangles=F, lw=lwdt, color=c, alpha=1)\n",
    "    if face_func is not None:\n",
    "        collec.set_array(face_func)\n",
    "    if vertex_func is not None:\n",
    "        vertex_value = lambda v: np.mean(np.stack([v[F[:,0]], v[F[:,1]], v[F[:,2]]]), axis=0)\n",
    "        collec.set_array(vertex_value(vertex_func))\n",
    "    ax.axis(\"off\")\n",
    "    ax.set_aspect('equal')\n",
    "    ax.view_init(elev=el, azim=az)\n",
    "    ax.dist = dist\n",
    "    \n",
    "    # Create cubic bounding box to simulate equal aspect ratio\n",
    "    # this is a hack to prevent a change in aspect ratio during rotation\n",
    "    x = X[0,:]\n",
    "    y = X[1,:]\n",
    "    z = X[2,:]\n",
    "    max_range = np.array([x.max()-x.min(), y.max()-y.min(), z.max()-z.min()]).max()\n",
    "    Xb = 0.5*max_range*np.mgrid[-1:2:2,-1:2:2,-1:2:2][0].flatten() + 0.5*(x.max()+x.min())\n",
    "    Yb = 0.5*max_range*np.mgrid[-1:2:2,-1:2:2,-1:2:2][1].flatten() + 0.5*(y.max()+y.min())\n",
    "    Zb = 0.5*max_range*np.mgrid[-1:2:2,-1:2:2,-1:2:2][2].flatten() + 0.5*(z.max()+z.min())\n",
    "    for xb, yb, zb in zip(Xb, Yb, Zb):\n",
    "        ax.plot([xb], [yb], [zb], 'w')\n",
    "    \n",
    "    plt.title(title)\n",
    "    return ax #need the ax object for the last section of the lab"
   ]
  },
  {
   "cell_type": "markdown",
   "metadata": {},
   "source": [
    "Load the example mesh (provided in the archive) and display it\n",
    "\n",
    "**IMPORTANT**\n",
    "\n",
    "Jupyter plots can be interactive or fixed. You can change the behaviour for all subsequent plots using IPython magics (single line starting by a `%`):\n",
    "\n",
    "- `%matplotlib inline` asks for fixed images\n",
    "- `%matplotlib notebook` allows for interactivity (rotating the 3D plot)\n",
    "\n",
    "You should take care of the following points:\n",
    "\n",
    "1. `%matplotlib notebook` can be pretty erratic sometimes... if the output of the cell is blank, ty to run it again for a few times (or duplicate the magic line, sometimes it works...)\n",
    "2. when you have an `interactive` plot, **always** end it by clicking on the 'turn off' button (top-right corner) before reverting to `inline` plots\n",
    "\n",
    "As for the mesh, you have the same model in three different resolutions (5k faces, 15k and 50k). We strongly recommend to work on the low-res model, because it will make all your computations faster (and you'll probably notice that the 3D visualization will be pretty slow). You can test a few methods on the 15k, and eventually switch to the 50k version once you've finished the lab, to see much nicer results (you might want to change a few parameters then). Beware, an interactive plot with this version might be _really_ slow to register your mouse commands when you try to rotate the view.\n",
    "\n",
    "```python\n",
    "# Comment out all-but-one lines\n",
    "name = 'elephant-5kf.off'\n",
    "name = 'elephant-15kf.off'\n",
    "name = 'elephant-50kf.off'\n",
    "```"
   ]
  },
  {
   "cell_type": "code",
   "execution_count": null,
   "metadata": {},
   "outputs": [],
   "source": [
    "name = 'elephant-5kf.off'\n",
    "#name = 'elephant-15kf.off'\n",
    "#name = 'elephant-50kf.off'# turn this on ONLY AFTER completing the whole Lab\n",
    "X,F = read_mesh(name)"
   ]
  },
  {
   "cell_type": "code",
   "execution_count": null,
   "metadata": {},
   "outputs": [],
   "source": [
    "%matplotlib inline\n",
    "plt.figure(figsize=(7,7))\n",
    "plot_mesh(X,F)\n",
    "plt.tight_layout()\n",
    "plt.show()"
   ]
  },
  {
   "cell_type": "markdown",
   "metadata": {},
   "source": [
    "#### Exercise\n",
    "\n",
    "In a grid, display a few functions on that mesh (you can think of the coodinate functions, for instance)"
   ]
  },
  {
   "cell_type": "code",
   "execution_count": null,
   "metadata": {},
   "outputs": [],
   "source": [
    "## insert your code here"
   ]
  },
  {
   "cell_type": "markdown",
   "metadata": {},
   "source": [
    "Number $n$ of vertices and number $m$ of faces:"
   ]
  },
  {
   "cell_type": "code",
   "execution_count": null,
   "metadata": {},
   "outputs": [],
   "source": [
    "n = X.shape[0]\n",
    "m = F.shape[0]\n",
    "print \"Model contains: %d vertices, %d faces\" % (n,m)"
   ]
  },
  {
   "cell_type": "markdown",
   "metadata": {},
   "source": [
    "# Gradient, Divergence and Laplacian on Surfaces"
   ]
  },
  {
   "cell_type": "markdown",
   "metadata": {},
   "source": [
    "In this lab, we use piecewise linear finite elements to compute our differential operators, which in turn allows us to compute the Laplacian in order to solve a heat equation.\n",
    "\n",
    "> You can use the following document for a technical reference about the discrete Laplacian: \n",
    "> \n",
    "> https://graphics.stanford.edu/courses/cs468-13-spring/assets/lecture12-lu.pdf"
   ]
  },
  {
   "cell_type": "markdown",
   "metadata": {},
   "source": [
    "## Laplacian as div(grad)"
   ]
  },
  {
   "cell_type": "markdown",
   "metadata": {},
   "source": [
    "The gradient operator $\\nabla$ can be understood as a collection of 3 sparse matrices $(\\nabla_s)_{s=1,2,3}$ of size $(m,n)$ that computes each coordinate of $\\nabla u=(\\nabla_s u)_{s=1,2,3}$ through the formula, for each face $f$, \n",
    "\n",
    "$$(\\nabla u)_f = \\frac{1}{2A_f} \\sum_{i \\in f} u_i (N_f \\wedge e_i)$$\n",
    "\n",
    "- $A_f$ is the area of face $f$\n",
    "- $N_f$ is the normal to the face\n",
    "- $e_i$ is the edge opposite to vertex $i$\n",
    "- $\\wedge$ is the cross product in $\\RR^3$"
   ]
  },
  {
   "cell_type": "markdown",
   "metadata": {},
   "source": [
    "Callback to get the coordinates of all the vertex of index $i=1,2,3$ in all faces."
   ]
  },
  {
   "cell_type": "code",
   "execution_count": null,
   "metadata": {},
   "outputs": [],
   "source": [
    "XF = lambda i: X[F[:,i-1], :]"
   ]
  },
  {
   "cell_type": "markdown",
   "metadata": {},
   "source": [
    "#### Exercise\n",
    "\n",
    "You have to implement the Laplacian computation. You'll be guided step by step and just need to fill in the blanks. Don't change the suggested variables names because you'll need them for the rest of the lab"
   ]
  },
  {
   "cell_type": "markdown",
   "metadata": {},
   "source": [
    "1. Compute un-normalized normal through the formula $e_1 \\wedge e_2$ where $e_i$ are the edges."
   ]
  },
  {
   "cell_type": "code",
   "execution_count": null,
   "metadata": {},
   "outputs": [],
   "source": [
    "Na = "
   ]
  },
  {
   "cell_type": "markdown",
   "metadata": {},
   "source": [
    "2. Compute the area of each face as half the norm of the cross product."
   ]
  },
  {
   "cell_type": "code",
   "execution_count": null,
   "metadata": {},
   "outputs": [],
   "source": [
    "amplitude = lambda X: np.sqrt(np.sum(X**2, axis=1)) # shorthand to compute vector norm\n",
    "A = "
   ]
  },
  {
   "cell_type": "markdown",
   "metadata": {},
   "source": [
    "3. Compute the set of unit-norm normals to each face."
   ]
  },
  {
   "cell_type": "code",
   "execution_count": null,
   "metadata": {},
   "outputs": [],
   "source": [
    "normalize = "
   ]
  },
  {
   "cell_type": "code",
   "execution_count": null,
   "metadata": {},
   "outputs": [],
   "source": [
    "N = "
   ]
  },
  {
   "cell_type": "markdown",
   "metadata": {},
   "source": [
    "4. Populate the sparse entries of the matrices for the operator implementing $\\sum_{i \\in f} u_i (N_f \\wedge e_i)$"
   ]
  },
  {
   "cell_type": "code",
   "execution_count": null,
   "metadata": {},
   "outputs": [],
   "source": [
    "I = []\n",
    "J = []\n",
    "V = []\n",
    "for i in range(1,4):\n",
    "    "
   ]
  },
  {
   "cell_type": "markdown",
   "metadata": {},
   "source": [
    "5. Create a sparse diagonal matrix with entries $1/(2A_f)$"
   ]
  },
  {
   "cell_type": "code",
   "execution_count": null,
   "metadata": {},
   "outputs": [],
   "source": [
    "dA = "
   ]
  },
  {
   "cell_type": "markdown",
   "metadata": {},
   "source": [
    "6. Gradient operator"
   ]
  },
  {
   "cell_type": "code",
   "execution_count": null,
   "metadata": {},
   "outputs": [],
   "source": [
    "GradMat = "
   ]
  },
  {
   "cell_type": "code",
   "execution_count": null,
   "metadata": {},
   "outputs": [],
   "source": [
    "Grad = "
   ]
  },
  {
   "cell_type": "markdown",
   "metadata": {},
   "source": [
    "7. Compute divergence matrices as transposed of grad for the face area inner product."
   ]
  },
  {
   "cell_type": "code",
   "execution_count": null,
   "metadata": {},
   "outputs": [],
   "source": [
    "DivMats = "
   ]
  },
  {
   "cell_type": "markdown",
   "metadata": {},
   "source": [
    "8. Div operator"
   ]
  },
  {
   "cell_type": "code",
   "execution_count": null,
   "metadata": {},
   "outputs": [],
   "source": [
    "Div = "
   ]
  },
  {
   "cell_type": "markdown",
   "metadata": {},
   "source": [
    "9. Laplacian operator as the composition of grad and div."
   ]
  },
  {
   "cell_type": "code",
   "execution_count": null,
   "metadata": {},
   "outputs": [],
   "source": [
    "Delta = "
   ]
  },
  {
   "cell_type": "markdown",
   "metadata": {},
   "source": [
    "## Cotangent Laplacian"
   ]
  },
  {
   "cell_type": "markdown",
   "metadata": {},
   "source": [
    "We can also directly compute the Laplacian using a cotangent weighting scheme (as described in https://graphics.stanford.edu/courses/cs468-13-spring/assets/lecture12-lu.pdf)"
   ]
  },
  {
   "cell_type": "markdown",
   "metadata": {},
   "source": [
    "Cotan of an angle between two vectors."
   ]
  },
  {
   "cell_type": "code",
   "execution_count": null,
   "metadata": {},
   "outputs": [],
   "source": [
    "# numpy doesn't implement a cotangent function...\n",
    "def cota(a,b):\n",
    "    x = np.arccos(np.sum(normalize(a) * normalize(b), axis=1))\n",
    "    return np.cos(x)/(np.sin(x) + 1e-8)"
   ]
  },
  {
   "cell_type": "markdown",
   "metadata": {},
   "source": [
    "#### Exercise\n",
    "\n",
    "Implement the cotangent version of the Laplacian, stored in a sparse matrix (use the same structure as the previous part)"
   ]
  },
  {
   "cell_type": "code",
   "execution_count": null,
   "metadata": {},
   "outputs": [],
   "source": [
    "# indexes to build the sparse matrices\n",
    "I = []\n",
    "J = []\n",
    "V = []\n",
    "# area of face around vertices (diagonal sparse matrix)\n",
    "Ia = []\n",
    "Va = []"
   ]
  },
  {
   "cell_type": "code",
   "execution_count": null,
   "metadata": {},
   "outputs": [],
   "source": [
    "## insert your code here"
   ]
  },
  {
   "cell_type": "markdown",
   "metadata": {},
   "source": [
    "Check that the Laplacian with cotan weights is actually equal to the composition of divergence and gradient."
   ]
  },
  {
   "cell_type": "code",
   "execution_count": null,
   "metadata": {},
   "outputs": [],
   "source": [
    "print \"Should be small:\", np.linalg.norm((Delta - DeltaCot).toarray())/np.linalg.norm(Delta.toarray())"
   ]
  },
  {
   "cell_type": "markdown",
   "metadata": {},
   "source": [
    "Display a function on the mesh along with its Laplacian"
   ]
  },
  {
   "cell_type": "code",
   "execution_count": null,
   "metadata": {},
   "outputs": [],
   "source": [
    "f = X[:,1]\n",
    "\n",
    "plt.figure(figsize=(14,7))\n",
    "plot_mesh(X,F,subplot=[1,2,1],title=\"f\", vertex_func=f)\n",
    "plot_mesh(X,F,subplot=[1,2,2],title=\"Delta f\",vertex_func=Delta*f)\n",
    "\n",
    "plt.tight_layout()\n",
    "plt.show()"
   ]
  },
  {
   "cell_type": "markdown",
   "metadata": {},
   "source": [
    "# Heat Diffusion and Time Stepping"
   ]
  },
  {
   "cell_type": "markdown",
   "metadata": {},
   "source": [
    "We want to compute geodesic distances by solving the heat diffusion equation:\n",
    "\n",
    "$$\\frac{\\partial u}{\\partial t} = -\\Delta u$$\n",
    "\n",
    "The method developped in [CraneWeischedelWardetzky13](#Bibliography) relies on the fact that the level set of the geodesic distance function to a starting point $i$ agrees with the level set of the solution of the heat diffusion when the time of diffusion tends to zero. This fundamental result is proved in [Varadhan67](#Bibliography).\n",
    "\n",
    "In fact, the same result holds true when replacing the heat diffusion solution by a single Euler implicit step in time, with time step $t$. This means one should consider the solution u to the equation\n",
    "\n",
    "$$(\\text{Id}+t \\Delta) u = \\delta_i$$\n",
    "\n",
    "where $\\delta_i$ is the Dirac vector at vertex index $i$.\n",
    "\n",
    "Select index $i$, at the tip of the trunk"
   ]
  },
  {
   "cell_type": "code",
   "execution_count": null,
   "metadata": {},
   "outputs": [],
   "source": [
    "i = 2367 #for the 5k model\n",
    "#i = 120 #for the 15k model\n",
    "#i = 21000 #for the 50k model"
   ]
  },
  {
   "cell_type": "markdown",
   "metadata": {},
   "source": [
    "Set time $t$"
   ]
  },
  {
   "cell_type": "code",
   "execution_count": null,
   "metadata": {},
   "outputs": [],
   "source": [
    "t = 10"
   ]
  },
  {
   "cell_type": "markdown",
   "metadata": {},
   "source": [
    "Solve the linear system."
   ]
  },
  {
   "cell_type": "code",
   "execution_count": null,
   "metadata": {},
   "outputs": [],
   "source": [
    "delta = np.zeros((n,1))\n",
    "delta[i] = 1"
   ]
  },
  {
   "cell_type": "code",
   "execution_count": null,
   "metadata": {},
   "outputs": [],
   "source": [
    "u = np.squeeze(np.linalg.solve((Ac+t*Delta).toarray(),delta))"
   ]
  },
  {
   "cell_type": "markdown",
   "metadata": {},
   "source": [
    "Display this solution, using a different color grading"
   ]
  },
  {
   "cell_type": "code",
   "execution_count": null,
   "metadata": {},
   "outputs": [],
   "source": [
    "def color_grading(u,p):\n",
    "    # remap to 0-1, then periodize\n",
    "    y = (u - u.min())/(u.max() - u.min())\n",
    "    return np.cos(p * 2.*np.pi*y);"
   ]
  },
  {
   "cell_type": "code",
   "execution_count": null,
   "metadata": {},
   "outputs": [],
   "source": [
    "plt.figure(figsize=(14,7))\n",
    "plot_mesh(X,F,subplot=[1,2,1],vertex_func=u)\n",
    "plt.subplot(1,2,2)\n",
    "plot_mesh(X,F,subplot=[1,2,2],vertex_func=color_grading(u,5))\n",
    "\n",
    "plt.tight_layout()\n",
    "plt.show()"
   ]
  },
  {
   "cell_type": "markdown",
   "metadata": {},
   "source": [
    "#### Exercise\n",
    "\n",
    "You can solve the general heat diffusion equation\n",
    "\n",
    "$$\\frac{\\partial u}{\\partial t} = -\\Delta u$$\n",
    "\n",
    "by iterating several passes of implicit time stepping. Pay attention to the value of $t$. Display a few steps in a $2 \\times 2$ grid. Note that the Heat method does not require an exact solution to the heat equation."
   ]
  },
  {
   "cell_type": "code",
   "execution_count": null,
   "metadata": {},
   "outputs": [],
   "source": [
    "## insert your code here"
   ]
  },
  {
   "cell_type": "markdown",
   "metadata": {},
   "source": [
    "# Geodesic in Heat method"
   ]
  },
  {
   "cell_type": "markdown",
   "metadata": {},
   "source": [
    "The main point of the method [CraneWeischedelWardetzky13](#Bibliography) is to retrieve an approximation of the distance function $\\phi$ from the level set of implicit heat diffusion step u.\n",
    "\n",
    "This is achieved by using the fact that $\\norm{\\nabla \\phi}=1$, i.e. one should have at first order $\\nabla \\phi \\approx -\\frac{\\nabla u}{\\norm{\\nabla u}}$, and:\n",
    "\n",
    "$$\\text{div}(\\nabla \\phi) = \\text{div}(-\\frac{\\nabla u}{\\norm{\\nabla u}})$$\n",
    "\n",
    "$$\\Delta \\phi = \\text{div}(-\\frac{\\nabla u}{\\norm{\\nabla u}})$$\n",
    "            \n",
    "This is another Poisson equation, that we can solve just as seen previously."
   ]
  },
  {
   "cell_type": "markdown",
   "metadata": {},
   "source": [
    "#### Exercise\n",
    "\n",
    "1. Solve this equation. First, compute $u$ as a 1-step solution of heat (with implicit time stepping). Then you can solve for $\\phi$.\n",
    "2. Display the resulting $\\phi$ obtained for several time step $t$ values. "
   ]
  },
  {
   "cell_type": "code",
   "execution_count": null,
   "metadata": {},
   "outputs": [],
   "source": [
    "## insert your code here"
   ]
  },
  {
   "cell_type": "markdown",
   "metadata": {},
   "source": [
    "# Farthest point sampling"
   ]
  },
  {
   "cell_type": "markdown",
   "metadata": {},
   "source": [
    "You can now use this distance map to implement farthest point sampling"
   ]
  },
  {
   "cell_type": "markdown",
   "metadata": {},
   "source": [
    "#### Exercise\n",
    "Implement farthest point sampling. Use the following image as a reference.\n",
    "\n",
    "![broken link, maybe your internet connection is down](http://www.ceremade.dauphine.fr/~groscot/fps.png)\n",
    "\n",
    "Don't forget to show spheres located at the selected positions. To do so,\n",
    "you need to call `ax.scatter()` where `ax` is a 3D axis system, for instance the one returned by `plot_mesh()`: `ax.scatter(x_list, y_list, z_list,s=100)`)"
   ]
  },
  {
   "cell_type": "code",
   "execution_count": null,
   "metadata": {},
   "outputs": [],
   "source": [
    "## insert your code here"
   ]
  },
  {
   "cell_type": "markdown",
   "metadata": {},
   "source": [
    "# You're finished!"
   ]
  },
  {
   "cell_type": "markdown",
   "metadata": {},
   "source": [
    "__Student name__"
   ]
  },
  {
   "cell_type": "markdown",
   "metadata": {},
   "source": [
    "Replace this cell with your name\n",
    "(double click to edit the cell, then render by executing like a code cell, `Shift+Enter`)"
   ]
  },
  {
   "cell_type": "markdown",
   "metadata": {},
   "source": [
    "Once you've finished the lab, export it into a fixed HTML file and email it to me. Don't worry, it won't be graded - the only effect it can have on your final class grade is positive. You can follow these steps:\n",
    "\n",
    "1. Export to HTML using the menu `File` > `Download as` > `HTML (.html)`\n",
    "2. Rename the file using the following scheme: `TP2_nom_prenom.html`, for instance `TP2_dupont_jean.html`\n",
    "3. Send it to the following address: groscot@ceremade.dauphine.fr\n",
    "\n",
    "###### .THE END."
   ]
  },
  {
   "cell_type": "markdown",
   "metadata": {},
   "source": [
    "# Bibliography\n",
    "\n",
    "- **[CraneWeischedelWardetzky13]** K. Crane, C. Weischedel, M. Wardetzky, _Geodesics in heat: A new approach to computing distance based on heat flow_, ACM Transactions on Graphics , vol. 32, no. 5, pp. 152:1-152:11, 2013.\n",
    "- **[Varadhan67]** S.R.S. Varadhan, _On the behavior of the fundamental solution of the heat equation with variable coefficients_, Communications on Pure and Applied Mathematics 20, 2, 431-455, 1967"
   ]
  }
 ],
 "metadata": {
  "anaconda-cloud": {},
  "kernelspec": {
   "display_name": "Python 3",
   "language": "python",
   "name": "python3"
  },
  "language_info": {
   "codemirror_mode": {
    "name": "ipython",
    "version": 2
   },
   "file_extension": ".py",
   "mimetype": "text/x-python",
   "name": "python",
   "nbconvert_exporter": "python",
   "pygments_lexer": "ipython2",
   "version": "2.7.15"
  },
  "toc": {
   "base_numbering": 1,
   "nav_menu": {},
   "number_sections": true,
   "sideBar": true,
   "skip_h1_title": false,
   "title_cell": "Table of Contents",
   "title_sidebar": "Contents",
   "toc_cell": false,
   "toc_position": {},
   "toc_section_display": true,
   "toc_window_display": false
  }
 },
 "nbformat": 4,
 "nbformat_minor": 1
}
